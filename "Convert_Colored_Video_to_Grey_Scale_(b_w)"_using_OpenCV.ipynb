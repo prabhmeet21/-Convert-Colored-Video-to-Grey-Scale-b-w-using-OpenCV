{
  "nbformat": 4,
  "nbformat_minor": 0,
  "metadata": {
    "colab": {
      "provenance": [],
      "authorship_tag": "ABX9TyOu5P3LGRjA/bLSIB0h0Xjq",
      "include_colab_link": true
    },
    "kernelspec": {
      "name": "python3",
      "display_name": "Python 3"
    },
    "language_info": {
      "name": "python"
    }
  },
  "cells": [
    {
      "cell_type": "markdown",
      "metadata": {
        "id": "view-in-github",
        "colab_type": "text"
      },
      "source": [
        "<a href=\"https://colab.research.google.com/github/prabhmeet21/-Convert-Colored-Video-to-Grey-Scale-b-w-using-OpenCV/blob/main/%22Convert_Colored_Video_to_Grey_Scale_(b_w)%22_using_OpenCV.ipynb\" target=\"_parent\"><img src=\"https://colab.research.google.com/assets/colab-badge.svg\" alt=\"Open In Colab\"/></a>"
      ]
    },
    {
      "cell_type": "code",
      "execution_count": null,
      "metadata": {
        "id": "hFOyJjS9NcMF"
      },
      "outputs": [],
      "source": [
        "pip install pytube opencv-python\n"
      ]
    },
    {
      "cell_type": "code",
      "source": [
        "import os\n",
        "import cv2"
      ],
      "metadata": {
        "id": "Ed1Dlv2fNoJC"
      },
      "execution_count": 2,
      "outputs": []
    },
    {
      "cell_type": "code",
      "source": [
        "from pytube import YouTube\n",
        "\n",
        "# List of YouTube video URLs (can be up to 100)\n",
        "video_urls = [\n",
        "    'https://www.youtube.com/watch?v=ScMzIvxBSi4',  # Replace with actual URLs\n",
        "    # Add more video URLs here (up to 100)\n",
        "]\n",
        "\n",
        "input_folder = 'downloaded_videos'\n",
        "output_folder = 'grayscale_videos'\n",
        "os.makedirs(input_folder, exist_ok=True)\n",
        "os.makedirs(output_folder, exist_ok=True)\n",
        "\n",
        "def download_video(url, save_path):\n",
        "    yt = YouTube(url)\n",
        "    stream = yt.streams.filter(file_extension='mp4').get_highest_resolution()\n",
        "    video_path = stream.download(output_path=save_path)\n",
        "    print(f\"Downloaded: {yt.title}\")\n",
        "    return video_path\n",
        "\n",
        "def convert_to_grayscale(input_path, output_path):\n",
        "    cap = cv2.VideoCapture(input_path)\n",
        "\n",
        "    frame_width = int(cap.get(cv2.CAP_PROP_FRAME_WIDTH))\n",
        "    frame_height = int(cap.get(cv2.CAP_PROP_FRAME_HEIGHT))\n",
        "    fps = cap.get(cv2.CAP_PROP_FPS)\n",
        "\n",
        "    fourcc = cv2.VideoWriter_fourcc(*'mp4v')\n",
        "    out = cv2.VideoWriter(output_path, fourcc, fps, (frame_width, frame_height), isColor=False)\n",
        "\n",
        "    while True:\n",
        "        ret, frame = cap.read()\n",
        "        if not ret:\n",
        "            break\n",
        "        gray = cv2.cvtColor(frame, cv2.COLOR_BGR2GRAY)\n",
        "        out.write(gray)\n",
        "\n",
        "        # Optional: Show the grayscale video frame while processing\n",
        "        cv2.imshow(\"Grayscale Preview\", gray)\n",
        "        if cv2.waitKey(1) & 0xFF == ord('q'):\n",
        "            break\n",
        "\n",
        "    cap.release()\n",
        "    out.release()\n",
        "    cv2.destroyAllWindows()\n",
        "\n",
        "# Loop through URLs\n",
        "for i, url in enumerate(video_urls):\n",
        "    try:\n",
        "        downloaded_video = download_video(url, input_folder)\n",
        "        filename = os.path.basename(downloaded_video)\n",
        "        gray_output_path = os.path.join(output_folder, f'gray_{filename}')\n",
        "        convert_to_grayscale(downloaded_video, gray_output_path)\n",
        "        print(f\"✅ Processed {filename} to grayscale.\")\n",
        "    except Exception as e:\n",
        "        print(f\" Failed to process {url}: {e}\")\n",
        "\n",
        "print(\" All videos downloaded and processed.\")\n"
      ],
      "metadata": {
        "colab": {
          "base_uri": "https://localhost:8080/"
        },
        "id": "eJox93h4Nz9t",
        "outputId": "ffa0708f-d6c0-425a-fced-394441ffc12e"
      },
      "execution_count": 4,
      "outputs": [
        {
          "output_type": "stream",
          "name": "stdout",
          "text": [
            " Failed to process https://www.youtube.com/watch?v=ScMzIvxBSi4: HTTP Error 400: Bad Request\n",
            " All videos downloaded and processed.\n"
          ]
        }
      ]
    }
  ]
}